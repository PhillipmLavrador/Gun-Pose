{
 "cells": [
  {
   "cell_type": "code",
   "execution_count": null,
   "id": "100bf88e",
   "metadata": {},
   "outputs": [],
   "source": [
    "import cv2\n",
    "import os\n",
    "\n",
    "class Cleaner():\n",
    "    def __init__(self, vidPath, outPath=\"./output\", fps=10 ):\n",
    "        self.vidPathList = [f for f in os.listdir(vidPath) if os.path.isfile(os.path.join(vidPath, f))]\n",
    "        self.fps = fps\n",
    "        self.outPath = outPath\n",
    "        \n",
    "    def splitVideo(self, vid):\n",
    "        gunType = \"Rifle\" if (\"Rifle\" in vid) else \"Pistol\" if (\"Pistol\" in vid) else \"Walk\" if (\"Walk\" in vid) else \"Phone\" if (\"Phone\" in vid) else \"Shotgun\"\n",
    "        cap = cv2.VideoCapture(f\"./vids/{vid}\")\n",
    "        count = 0\n",
    "        while cap.isOpened():\n",
    "            ret, frame = cap.read()\n",
    "            if ret:\n",
    "                cv2.imwrite(f'./output/{gunType}/{vid.split(\".\")[0]}_{count}.png', frame)\n",
    "                count += self.fps\n",
    "                cap.set(cv2.CAP_PROP_POS_FRAMES, count)\n",
    "            else:\n",
    "                cap.release()\n",
    "                break\n",
    "\n",
    "    def clean(self):\n",
    "        if not os.path.exists(self.outPath):\n",
    "            os.makedirs(self.outPath)\n",
    "        if not os.path.exists(f\"{self.outPath}/Pistol\"):\n",
    "            os.makedirs(f\"{self.outPath}/Pistol\")\n",
    "        if not os.path.exists(f\"{self.outPath}/Shotgun\"):\n",
    "            os.makedirs(f\"{self.outPath}/Shotgun\")\n",
    "        if not os.path.exists(f\"{self.outPath}/Rifle\"):\n",
    "            os.makedirs(f\"{self.outPath}/Rifle\")\n",
    "        if not os.path.exists(f\"{self.outPath}/Phone\"):\n",
    "            os.makedirs(f\"{self.outPath}/Phone\")\n",
    "        if not os.path.exists(f\"{self.outPath}/Walk\"):\n",
    "            os.makedirs(f\"{self.outPath}/Walk\")\n",
    "        for vidPath in self.vidPathList:\n",
    "            self.splitVideo(vidPath)\n",
    "\n",
    "c = Cleaner(vidPath=\"./vids/\", outPath=\"./output\")\n",
    "c.clean()\n"
   ]
  }
 ],
 "metadata": {
  "kernelspec": {
   "display_name": "gunenv",
   "language": "python",
   "name": "gunenv"
  },
  "language_info": {
   "codemirror_mode": {
    "name": "ipython",
    "version": 3
   },
   "file_extension": ".py",
   "mimetype": "text/x-python",
   "name": "python",
   "nbconvert_exporter": "python",
   "pygments_lexer": "ipython3",
   "version": "3.11.3"
  }
 },
 "nbformat": 4,
 "nbformat_minor": 5
}
